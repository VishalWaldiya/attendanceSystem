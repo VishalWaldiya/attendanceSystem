{
 "cells": [
  {
   "cell_type": "code",
   "execution_count": 1,
   "id": "entitled-desktop",
   "metadata": {},
   "outputs": [],
   "source": [
    "        gates = SecurityPost.objects.all()\n"
   ]
  },
  {
   "cell_type": "code",
   "execution_count": 2,
   "id": "built-xerox",
   "metadata": {},
   "outputs": [
    {
     "data": {
      "text/plain": [
       "<QuerySet [<SecurityPost: Security Office>, <SecurityPost: Gate 2>, <SecurityPost: Gate 3>, <SecurityPost: Kanta Hut>, <SecurityPost: Canteen>, <SecurityPost: BAV-Room 9>, <SecurityPost: G-9>, <SecurityPost: Saroorpur I>, <SecurityPost: Saroorpur II>, <SecurityPost: Langar>, <SecurityPost: L-2>, <SecurityPost: Kothi>, <SecurityPost: L-5>, <SecurityPost: Stage>, <SecurityPost: Pandal Store>, <SecurityPost: Pandal Office>, <SecurityPost: Pillar-121>, <SecurityPost: Water Tank-2>, <SecurityPost: Ara Machine>, <SecurityPost: Tea-Morning>, '...(remaining elements truncated)...']>"
      ]
     },
     "execution_count": 2,
     "metadata": {},
     "output_type": "execute_result"
    }
   ],
   "source": [
    "gates"
   ]
  },
  {
   "cell_type": "code",
   "execution_count": 18,
   "id": "charming-williams",
   "metadata": {},
   "outputs": [
    {
     "data": {
      "text/plain": [
       "datetime.datetime(2021, 2, 5, 19, 57, 17, 300844)"
      ]
     },
     "execution_count": 18,
     "metadata": {},
     "output_type": "execute_result"
    }
   ],
   "source": [
    "datetime.now()"
   ]
  },
  {
   "cell_type": "code",
   "execution_count": 35,
   "id": "dirty-kernel",
   "metadata": {},
   "outputs": [],
   "source": [
    "## Adding hours or minutes or seconds to datetime\n",
    "from datetime import datetime, timedelta\n",
    "\n",
    "# ## Original datetime\n",
    "# datetime_original = datetime(year=2006, month=11, day=23)\n",
    "# print(\"\\nOriginal date: \", datetime_original, \"\\n\")\n",
    " \n",
    "# ## Adding Hours\n",
    "hours_to_add = 5\n",
    "# datetime_new = datetime_original + timedelta(hours = hours_to_add)\n",
    "# print(\"After adding hours: \", datetime_new, \"\\n\")\n",
    " \n",
    "# ## Adding Minutes\n",
    "minutes_to_add = 30\n",
    "datetime_new = datetime.now() + timedelta(hours=5,minutes = minutes_to_add)\n",
    "# print(\"After adding minutes: \", datetime_new, \"\\n\")\n",
    " \n",
    "# ## Adding Seconds\n",
    "# seconds_to_add = 33\n",
    "# datetime_new = datetime_new + timedelta(seconds = seconds_to_add)\n",
    "# print(\"After adding seconds: \", datetime_new, \"\\n\")\n",
    " \n",
    "# ## Adding Microseconds\n",
    "# microseconds_to_add = 12345\n",
    "# datetime_new = datetime_new + timedelta(microseconds = microseconds_to_add)\n",
    "# print(\"After adding microseconds: \", datetime_new, \"\\n\")"
   ]
  },
  {
   "cell_type": "code",
   "execution_count": 39,
   "id": "close-reach",
   "metadata": {},
   "outputs": [
    {
     "data": {
      "text/plain": [
       "datetime.date(2021, 2, 6)"
      ]
     },
     "execution_count": 39,
     "metadata": {},
     "output_type": "execute_result"
    }
   ],
   "source": [
    "datetime_new.date()"
   ]
  },
  {
   "cell_type": "code",
   "execution_count": null,
   "id": "resistant-nylon",
   "metadata": {},
   "outputs": [],
   "source": []
  },
  {
   "cell_type": "code",
   "execution_count": 42,
   "id": "composed-filing",
   "metadata": {},
   "outputs": [],
   "source": [
    "for gate in gates:\n",
    "    results[gate.name] = Transaction.objects.filter(SecurityPostDetails=gate).filter(inTime__date = datetime_new.date())"
   ]
  },
  {
   "cell_type": "code",
   "execution_count": 43,
   "id": "reflected-glossary",
   "metadata": {},
   "outputs": [
    {
     "data": {
      "text/plain": [
       "{'Security Office': <QuerySet [<Transaction: 2021-02-06 00:28:00+00:00>]>,\n",
       " 'Gate 2': <QuerySet []>,\n",
       " 'Gate 3': <QuerySet []>,\n",
       " 'Kanta Hut': <QuerySet [<Transaction: 2021-02-06 04:36:00+00:00>]>,\n",
       " 'Canteen': <QuerySet []>,\n",
       " 'BAV-Room 9': <QuerySet []>,\n",
       " 'G-9': <QuerySet []>,\n",
       " 'Saroorpur I': <QuerySet []>,\n",
       " 'Saroorpur II': <QuerySet []>,\n",
       " 'Langar': <QuerySet []>,\n",
       " 'L-2': <QuerySet []>,\n",
       " 'Kothi': <QuerySet []>,\n",
       " 'L-5': <QuerySet []>,\n",
       " 'Stage': <QuerySet []>,\n",
       " 'Pandal Store': <QuerySet []>,\n",
       " 'Pandal Office': <QuerySet [<Transaction: 2021-02-06 00:35:00+00:00>]>,\n",
       " 'Pillar-121': <QuerySet []>,\n",
       " 'Water Tank-2': <QuerySet []>,\n",
       " 'Ara Machine': <QuerySet []>,\n",
       " 'Tea-Morning': <QuerySet []>,\n",
       " 'Tea-Evening': <QuerySet []>,\n",
       " 'Tea-Night': <QuerySet []>,\n",
       " 'Round-Morning': <QuerySet []>,\n",
       " 'Round-Evening': <QuerySet []>,\n",
       " 'Round-Night': <QuerySet []>}"
      ]
     },
     "execution_count": 43,
     "metadata": {},
     "output_type": "execute_result"
    }
   ],
   "source": [
    "results"
   ]
  },
  {
   "cell_type": "code",
   "execution_count": null,
   "id": "animal-alarm",
   "metadata": {},
   "outputs": [],
   "source": []
  }
 ],
 "metadata": {
  "kernelspec": {
   "display_name": "Django Shell-Plus",
   "language": "python",
   "name": "django_extensions"
  },
  "language_info": {
   "codemirror_mode": {
    "name": "ipython",
    "version": 3
   },
   "file_extension": ".py",
   "mimetype": "text/x-python",
   "name": "python",
   "nbconvert_exporter": "python",
   "pygments_lexer": "ipython3",
   "version": "3.6.9"
  }
 },
 "nbformat": 4,
 "nbformat_minor": 5
}
